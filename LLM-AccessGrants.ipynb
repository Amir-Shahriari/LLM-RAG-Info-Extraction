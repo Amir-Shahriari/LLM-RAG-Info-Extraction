{
 "cells": [
  {
   "cell_type": "markdown",
   "id": "9936927d-7250-461d-a100-2876bf09c12b",
   "metadata": {},
   "source": [
    "### Local LLM invokation using LangChain\n",
    "\n",
    "Hello interns, I set up Ollama as a service and installed LangChain to help you guys get started. \n",
    "\n",
    "Please note, it works a lot like ChatGPT but it is run locally on a Workstation PC. It can be invoked in LangChain or with many other tools. \n",
    "\n",
    "I have used TinyLlama as the LLM. I suggest you start with this LLM. For next steps, try using a text document with LangChain in order to augment the response (i.e., RAG)."
   ]
  },
  {
   "cell_type": "code",
   "execution_count": 3,
   "id": "11549a3c-7e6b-423b-9ebe-4f7c6e4caf0d",
   "metadata": {},
   "outputs": [
    {
     "ename": "ModuleNotFoundError",
     "evalue": "No module named 'langchain_community'",
     "output_type": "error",
     "traceback": [
      "\u001b[1;31m---------------------------------------------------------------------------\u001b[0m",
      "\u001b[1;31mModuleNotFoundError\u001b[0m                       Traceback (most recent call last)",
      "Cell \u001b[1;32mIn[3], line 1\u001b[0m\n\u001b[1;32m----> 1\u001b[0m \u001b[38;5;28;01mfrom\u001b[39;00m \u001b[38;5;21;01mlangchain_community\u001b[39;00m\u001b[38;5;21;01m.\u001b[39;00m\u001b[38;5;21;01mllms\u001b[39;00m \u001b[38;5;28;01mimport\u001b[39;00m Ollama\n\u001b[0;32m      2\u001b[0m \u001b[38;5;28;01mfrom\u001b[39;00m \u001b[38;5;21;01mlangchain\u001b[39;00m\u001b[38;5;21;01m.\u001b[39;00m\u001b[38;5;21;01mdocument_loaders\u001b[39;00m \u001b[38;5;28;01mimport\u001b[39;00m SimpleDocumentLoader\n\u001b[0;32m      3\u001b[0m \u001b[38;5;28;01mfrom\u001b[39;00m \u001b[38;5;21;01mlangchain\u001b[39;00m\u001b[38;5;21;01m.\u001b[39;00m\u001b[38;5;21;01mretrievers\u001b[39;00m \u001b[38;5;28;01mimport\u001b[39;00m SimpleRetriever\n",
      "\u001b[1;31mModuleNotFoundError\u001b[0m: No module named 'langchain_community'"
     ]
    }
   ],
   "source": [
    "from langchain_community.llms import Ollama\n",
    "from langchain.document_loaders import SimpleDocumentLoader\n",
    "from langchain.retrievers import SimpleRetriever\n",
    "from langchain.chains import RetrievalQA\n",
    "\n",
    "# Initialize the LLM\n",
    "llm = Ollama(\n",
    "    base_url=\"http://notebooks.weburawdfafaddsa\",\n",
    "    model=\"tinyllama\"\n",
    ")\n",
    "\n",
    "# Load the document\n",
    "loader = SimpleDocumentLoader(file_path=\"path_to_your_text_document.txt\")\n",
    "documents = loader.load()\n",
    "\n",
    "# Initialize retriever\n",
    "retriever = SimpleRetriever(documents)\n"
   ]
  },
  {
   "cell_type": "code",
   "execution_count": 20,
   "id": "34e16151-7cfd-42b4-9e56-a936f4c26178",
   "metadata": {},
   "outputs": [
    {
     "name": "stdout",
     "output_type": "stream",
     "text": [
      "Well, there are various physical and mental activities that can help you feel energized:\n",
      "\n",
      "1. Exercise - Regular exercise is one of the best things you can do for your body and mind. Consider doing something such as yoga, Pilates or aerobics to get your heart rate up while getting some quality workout in.\n",
      "\n",
      "2. Gardening - Tending to a garden provides a sense of accomplishment, and it also helps to improve your overall mood. It's a great way to unwind, clear your mind, and take some fresh air.\n",
      "\n",
      "3. Reading - Reading is an excellent way to relax and let your mind wander. Focus on the story and the characters. Take breaks when you need them, but don't skip too many chapters without pausing for a few minutes in between.\n",
      "\n",
      "4. Cooking - Preparing food at home can provide you with a sense of accomplishment, and it also helps to improve your culinary skills. You could try experimenting with new recipes, such as trying out some Asian cuisine or making your own smoothies.\n",
      "\n",
      "5. Nature walks - Spending time in nature provides a calming environment that can help you relax. Explore nearby parks or take a walk through the woods to clear your mind.\n",
      "\n",
      "Remember that any activity you do should be enjoyable and not too strenuous for you, as it will improve your mood and energy levels over time.\n"
     ]
    }
   ],
   "source": [
    "# Adding context\n",
    "response = llm.invoke(\"I am feeling energetic today. What activities would be good to do?\")\n",
    "print(response)\n",
    "\n"
   ]
  },
  {
   "cell_type": "code",
   "execution_count": 21,
   "id": "08916a91-1d9e-4b08-8ddc-7cc22a7bc016",
   "metadata": {},
   "outputs": [
    {
     "name": "stdout",
     "output_type": "stream",
     "text": [
      "1. Hiking: Sunny days provide the perfect conditions for hiking, whether it's a local trail or a more popular one that's easy to access. Whether you choose a mountain path or a beachfront trail, hiking in nature can offer incredible views and plenty of exercise at the same time.\n",
      "\n",
      "2. Cycling: For those who enjoy a bit of an uphill challenge, cycling in a scenic location like a park or forest is always a good idea. There are many cycling trails that offer challenging routes for those looking to push themselves and see some beautiful countryside while doing so.\n",
      "\n",
      "3. Beach day: If you're feeling adventurous and want to take advantage of the sunny day, a beach day is always a great option. Many beaches offer facilities such as parking, bathrooms, and picnic areas that allow visitors to enjoy the sunshine while still having access to modern amenities like water sports or entertainment.\n"
     ]
    }
   ],
   "source": [
    "# Specifying output format\n",
    "response = llm.invoke(\"List three outdoor activities suitable for a sunny day.\")\n",
    "print(response)"
   ]
  },
  {
   "cell_type": "code",
   "execution_count": 22,
   "id": "6770de6d-95e2-4684-aa33-a49fe7affc0c",
   "metadata": {},
   "outputs": [
    {
     "name": "stdout",
     "output_type": "stream",
     "text": [
      "Here are some additional outdoor activities you might enjoy:\n",
      "\n",
      "1. Hiking: Explore scenic trails or hikes near your home or nearby parks for a fun and challenging workout.\n",
      "\n",
      "2. Gardening: Spend time tending to your own vegetable garden, flower bed, or herb patch for a satisfying outdoor workout.\n",
      "\n",
      "3. Camping: Plan camping trips with friends or family to explore new trails or camp grounds. This is an excellent way to get outdoors while still being safe and responsible.\n",
      "\n",
      "4. Swimming: Visit nearby water parks, lakes, rivers, or oceans for a fun and relaxing swim or wade in the water.\n",
      "\n",
      "5. Biking: Rent a bike from a local bike shop or try out rental options online to explore new trails or scenic areas. You can also set up bike paths around your neighborhood or workplace for a more challenging and enjoyable ride.\n",
      "\n",
      "6. Kayaking/Canoeing: Explore the waterways near your community, park, or lake for a low-impact paddle experience.\n",
      "\n",
      "7. Yoga: Practice yoga at home or in parks to improve flexibility, strength, and balance. This is an excellent way to get a full body workout while you're also meditating, focusing on your breath.\n",
      "\n",
      "8. Hiking with Pets: Find a local park or nature preserve where pets are welcome for a fun and challenging workout together.\n",
      "\n",
      "9. Rock Climbing: Attend climbing clubs in your area or try out indoor rock climbing gyms. This is an excellent way to get a full body workout while you're also having fun!\n"
     ]
    }
   ],
   "source": [
    "# Providing examples\n",
    "response = llm.invoke(\"For example, running and biking are good outdoor activities. What other activities can I do?\")\n",
    "print(response)"
   ]
  },
  {
   "cell_type": "code",
   "execution_count": null,
   "id": "ff7f191d-2ebe-4166-a580-b54ca07de01b",
   "metadata": {},
   "outputs": [],
   "source": []
  }
 ],
 "metadata": {
  "kernelspec": {
   "display_name": "Python 3 (ipykernel)",
   "language": "python",
   "name": "python3"
  },
  "language_info": {
   "codemirror_mode": {
    "name": "ipython",
    "version": 3
   },
   "file_extension": ".py",
   "mimetype": "text/x-python",
   "name": "python",
   "nbconvert_exporter": "python",
   "pygments_lexer": "ipython3",
   "version": "3.11.7"
  }
 },
 "nbformat": 4,
 "nbformat_minor": 5
}
