{
 "cells": [
  {
   "cell_type": "code",
   "execution_count": 1,
   "id": "4734c882-ff97-4a6d-bae4-00fe9def1e03",
   "metadata": {},
   "outputs": [],
   "source": [
    "from langchain_community.llms import Ollama\n",
    "from langchain import PromptTemplate, LLMChain\n",
    "\n",
    "# Initialize the LLM\n",
    "llm = Ollama(\n",
    "    base_url=\"http://notebooks.weburban.com:12434\", \n",
    "    model=\"tinyllama\"\n",
    ")"
   ]
  },
  {
   "cell_type": "code",
   "execution_count": 2,
   "id": "15659d0f-d106-4277-b692-f1b485cb3462",
   "metadata": {},
   "outputs": [
    {
     "name": "stderr",
     "output_type": "stream",
     "text": [
      "C:\\Users\\HATHEVENT\\anaconda3\\envs\\AI\\lib\\site-packages\\langchain_core\\_api\\deprecation.py:139: LangChainDeprecationWarning: The class `LLMChain` was deprecated in LangChain 0.1.17 and will be removed in 1.0. Use RunnableSequence, e.g., `prompt | llm` instead.\n",
      "  warn_deprecated(\n",
      "C:\\Users\\HATHEVENT\\anaconda3\\envs\\AI\\lib\\site-packages\\langchain_core\\_api\\deprecation.py:139: LangChainDeprecationWarning: The method `Chain.run` was deprecated in langchain 0.1.0 and will be removed in 0.3.0. Use invoke instead.\n",
      "  warn_deprecated(\n"
     ]
    },
    {
     "name": "stdout",
     "output_type": "stream",
     "text": [
      "The paper by E.K., B.H., S.M., and S.C. (WO/2017/106899) discusses the feasibility of using the A549 cell line to evaluate cytokine-secretion activity and proliferation in response to allo-stimulation, which is a key factor in determining patient outcomes for solid tumors. The authors performed experiments using this A549 cell line and expressed three types of human cytokines (IL-1β, IL-6, and TNF-α), including those released by activated T cells and natural killer cells during allo-stimulation. They further analyzed the effects on cytokine-secretion activity and proliferation using microarray analysis, western blotting, and a CCK8 assay.\n",
      "\n",
      "The experiments showed that the A549 cell line exhibited an increase in cytokines secretion upon allo-stimulation. The authors also found that T cells and natural killer cells can promote cytokine-secretion activity while reducing proliferation, indicating their potential for use as immunotherapy agents to reduce tumor growth in solid tumors.\n",
      "\n",
      "The paper includes supplementary information such as replicas of the A549 cell line, maps and citations for related works, and permissions details. The work also provides an example of Open Access Journal publishing for the article.\n"
     ]
    }
   ],
   "source": [
    "# Define a prompt template to extract the experiment element with a clear definition\n",
    "prompt_template = \"\"\"\n",
    "You are an expert in reading scientific texts. An \"Experiment element\" refers to sections of a document that describe how an experiment was conducted, including the materials and methods used, the results obtained, and the discussion of these results.\n",
    "\n",
    "Here is the text:\n",
    "{text}\n",
    "\n",
    "Extracted Experiment Element:\n",
    "\"\"\"\n",
    "\n",
    "# Initialize the prompt template\n",
    "template = PromptTemplate(\n",
    "    input_variables=[\"text\"],\n",
    "    template=prompt_template,\n",
    ")\n",
    "\n",
    "# Create an LLMChain for processing\n",
    "llm_chain = LLMChain(\n",
    "    llm=llm,\n",
    "    prompt=template\n",
    ")\n",
    "\n",
    "# Load the text data (replace with actual file content)\n",
    "with open('Data/blood_cells.txt', 'r') as file:\n",
    "    text_data = file.read()\n",
    "\n",
    "# Run the chain to extract the experiment element\n",
    "extracted_text = llm_chain.run(text=text_data)\n",
    "\n",
    "# Print the extracted experiment element\n",
    "print(extracted_text)"
   ]
  },
  {
   "cell_type": "code",
   "execution_count": 3,
   "id": "18775932-7dee-4930-93f7-40fdf6f93faf",
   "metadata": {},
   "outputs": [
    {
     "name": "stdout",
     "output_type": "stream",
     "text": [
      "Title: A Device for Collecting Vibration Data\n",
      "\n",
      "Abstract: The present invention is a device for collecting vibraction data that comprises:\n",
      "1. A housing that has an inner surface defining a void;\n",
      "2. A coupling arrangement for coupling the housing to a baseplate;\n",
      "3. A vibraction sensor that is coupled to the coupling arrangement and is located in the void;\n",
      "4. An electronic circuit that is located in the void and which is electrically coupled to the vibraction sensor and which is arranged to receive a signal from the sensor and process the signal to create vibraction data;\n",
      "5. A battery that is located in the void and is electricly coupled to the battery charging arrangement, wherein the battery charges by an inductive coupling to allow the battery to be recaraged by an inductive battery chargeer;\n",
      "6. An electro-optic (EO) mirror that reflects light from a source towards the baseplate and transmits reflected light towards a housing of the device, wherein when the EO mirror receives reflected light with a predetermined spectral characteristic or pattern, it generates a radio frequency signal and sends it to an electronic circuit;\n",
      "7. An electronic circuit that is arranged to encode a time-related data record with the vibraction data;\n",
      "8. A cover that is removably fitted to the housing, wherein when the cover is removed, the void extends outwardly from the main surface of the cover and provides a coupling arrangement for engaging with a baseplate;\n",
      "9. A radio receiver for receiving a radio signal encoded with program data, the electronic circuit being arranged to process the program data and operate according to the program data.\n",
      "\n",
      "Purpose: The present invention is an improved device that collects vibraction data from a subject while also having features suitable for use in biomedical applications or during routine medical procedures.\n",
      "\n",
      "Solution: The proposed device comprises several components arranged to function together, including a housing, coupling arrangement, vibraction sensor, and electronic circuit. The device is designed with several features, such as a void that allows the passage of air around the subject while also providing an electrical connection for charging the battery, an EO mirror that reflects light from the subject to collect vibraction data, and a cover that provides a coupling arrangement for engaging with a baseplate. The device can be used in various applications such as cardiac arrest monitoring or clinical diagnostics, providing patients with real-time feedback about their health condition.\n",
      "\n",
      "Innovation: The proposed device is different from other devices because it provides more functionality and better performance, including an EO mirror that generates a radio frequency signal and sends it to the electronic circuit, enabling the device to function as both a vibraction data collection device and an electrical connection point for charging the battery. Additionally, the EO mirror is unique in that it reflects light with a predetermined spectral characteristic or pattern, making it suitable for biomedical applications, while the electronic circuit is customizable and can process any time-related data record that is encoded with vibraction data using radio frequency signals.\n",
      "\n",
      "Conclusion: The proposed device offers numerous advantages, including improved performance, a better user experience, increased versatility in use, and greater flexibility for biomedical and clinical applications. Additionally, it has been designed to be easily transportable, making it ideal for use during routine medical procedures or at hospitals. By providing multiple functionalities, the proposed device can be used to enhance patient care, leading to a more efficient healthcare system.\n"
     ]
    }
   ],
   "source": [
    "# Define a prompt template to extract the experiment element with a clear definition\n",
    "prompt_template = \"\"\"\n",
    "You are an expert in reading technical documents. An \"Experiment element\" refers to sections of a document that describe the setup, procedures, and results of experiments conducted to test or validate a device or system.\n",
    "\n",
    "Here is the text:\n",
    "{text}\n",
    "\n",
    "Extracted Experiment Element:\n",
    "\"\"\"\n",
    "\n",
    "# Initialize the prompt template\n",
    "template = PromptTemplate(\n",
    "    input_variables=[\"text\"],\n",
    "    template=prompt_template,\n",
    ")\n",
    "\n",
    "# Create an LLMChain for processing\n",
    "llm_chain = LLMChain(\n",
    "    llm=llm,\n",
    "    prompt=template\n",
    ")\n",
    "\n",
    "# Load the text data (replace with actual file content)\n",
    "with open('Data/device.txt', 'r') as file:\n",
    "    text_data = file.read()\n",
    "\n",
    "# Run the chain to extract the experiment element\n",
    "extracted_text = llm_chain.run(text=text_data)\n",
    "\n",
    "# Print the extracted experiment element\n",
    "print(extracted_text)"
   ]
  },
  {
   "cell_type": "code",
   "execution_count": 5,
   "id": "4b2c1ef9-834d-443a-8939-6c40f5ebbbbe",
   "metadata": {},
   "outputs": [
    {
     "name": "stdout",
     "output_type": "stream",
     "text": [
      "After testing their new welding technique, a team of engineers and welders for a global manufacturer gathered in a conference room to discuss the results. They reviewed the data from each joint's defects per unit area (DPAU) and analyzed the variations in temperature and arc length adjustments during welding.\n",
      "\n",
      "Person 1: Good morning, everyone. We wanted to share some of our findings from the new welding technique we recently developed. In general, it seems to reduce defects by up to 62.5%, but with a lot of variability in the data. It's not a slam-dunk yet, but we think this could be worth pursuing.\n",
      "\n",
      "Person 2: Exciting! We noticed some small inconsistencies that need some further analysis. The Welder DPAs vary by around 0.8% and the arc length adjustments differ by up to 1%. These variations might affect the final results, but we're still figuring out the best way to implement it consistently.\n",
      "\n",
      "Person 3: That makes sense. We want to monitor these variances throughout the welding process to ensure they don't impact the final result. We also need to iron out some kinetic issues before considering fully switching over to this new technique.\n",
      "\n",
      "Person 1: Yes, we noticed that during welding, there are a few small defects that aren't necessarily related to Technique A or B. For example, we saw 2.4% more defects in Technique A than in Technique B, averaging around 0.9 defects per joint.\n",
      "\n",
      "Person 2: That's right, and the variability was across all joints, not just some small batches. We need to figure out how we can detect these smaller defects more reliably before making a final decision on this new technique.\n",
      "\n",
      "Person 3: Makes sense. This Welder DPAU data is just one piece of our overall analysis, and we'll be gathering more information from multiple perspectives. We need to see the effects of this new technique on both joint type and material, as well as the overall welding process.\n",
      "\n",
      "Person 1: Agreed. It would also help us understand any potential interferences between this new Welder DPAs and other parts or processes in the manufacturing line.\n",
      "\n",
      "Person 2: Yes, and that's why we're working on implementing a system to monitor these interactions as well. In the meantime, we need to fine-tune the Welder DPAs and optimize the welding process to ensure consistent results.\n",
      "\n",
      "Person 3: We'll do our best to make this new technique work for you, but it takes some time to get everything in place. But, we believe that with a little patience and dedication, this new method could revolutionize your production processes.\n"
     ]
    }
   ],
   "source": [
    "# Define a prompt template to extract the experiment element with a clear definition\n",
    "prompt_template = \"\"\"\n",
    "You are an expert in reading technical documents. An \"Experiment element\" refers to sections of a document that describe the setup, procedures, and results of experiments conducted to test or validate a hypothesis, technique, or system.\n",
    "\n",
    "Here is the text:\n",
    "{text}\n",
    "\n",
    "Extracted Experiment Element:\n",
    "\"\"\"\n",
    "\n",
    "# Initialize the prompt template\n",
    "template = PromptTemplate(\n",
    "    input_variables=[\"text\"],\n",
    "    template=prompt_template,\n",
    ")\n",
    "\n",
    "# Create an LLMChain for processing\n",
    "llm_chain = LLMChain(\n",
    "    llm=llm,\n",
    "    prompt=template\n",
    ")\n",
    "\n",
    "# Load the text data (replace with actual file content)\n",
    "with open('Data/dummy.txt', 'r', encoding=\"utf8\") as file:\n",
    "    text_data = file.read()\n",
    "\n",
    "# Run the chain to extract the experiment element\n",
    "extracted_text = llm_chain.run(text=text_data)\n",
    "\n",
    "# Print the extracted experiment element\n",
    "print(extracted_text)"
   ]
  }
 ],
 "metadata": {
  "kernelspec": {
   "display_name": "Python 3 (ipykernel)",
   "language": "python",
   "name": "python3"
  },
  "language_info": {
   "codemirror_mode": {
    "name": "ipython",
    "version": 3
   },
   "file_extension": ".py",
   "mimetype": "text/x-python",
   "name": "python",
   "nbconvert_exporter": "python",
   "pygments_lexer": "ipython3",
   "version": "3.10.13"
  }
 },
 "nbformat": 4,
 "nbformat_minor": 5
}
